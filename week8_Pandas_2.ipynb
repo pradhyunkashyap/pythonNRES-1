{
 "cells": [
  {
   "cell_type": "code",
   "execution_count": null,
   "metadata": {
    "colab": {},
    "colab_type": "code",
    "id": "5u-GzKmNhzJt"
   },
   "outputs": [],
   "source": [
    "import pandas as pd\n",
    "import matplotlib.pyplot as plt\n",
    "import numpy as np"
   ]
  },
  {
   "cell_type": "markdown",
   "metadata": {
    "colab_type": "text",
    "id": "yfDA9HJtGw-4"
   },
   "source": [
    "# Hierarchical indexing (MultiIndex)"
   ]
  },
  {
   "cell_type": "code",
   "execution_count": null,
   "metadata": {
    "colab": {
     "base_uri": "https://localhost:8080/",
     "height": 328
    },
    "colab_type": "code",
    "executionInfo": {
     "elapsed": 278,
     "status": "ok",
     "timestamp": 1583872355582,
     "user": {
      "displayName": "Michael Ou",
      "photoUrl": "https://lh3.googleusercontent.com/a-/AOh14GgO-l_Fq06ZN3gFRQv8LHB7ZNu6bvTk2yjjMwA9hw=s64",
      "userId": "02505320695703925391"
     },
     "user_tz": 300
    },
    "id": "TdYF0V_hewvF",
    "outputId": "fc4b8aa5-18a9-40b0-e42b-642cfe74ea45"
   },
   "outputs": [],
   "source": [
    "A = pd.DataFrame({'col1': ['a', 'a', 'a', 'b', 'b', 'b', 'c', 'c', 'c'],\n",
    "                  'col2': ['d', 'e', 'f', 'd', 'e', 'f', 'd', 'e', 'f'],\n",
    "                  'col3': [1, 2, 3, 4, 5, 6, 7, 8, 9]})\n",
    "A"
   ]
  },
  {
   "cell_type": "code",
   "execution_count": null,
   "metadata": {
    "colab": {
     "base_uri": "https://localhost:8080/",
     "height": 355
    },
    "colab_type": "code",
    "executionInfo": {
     "elapsed": 346,
     "status": "ok",
     "timestamp": 1583694743263,
     "user": {
      "displayName": "Michael Ou",
      "photoUrl": "https://lh3.googleusercontent.com/a-/AOh14GgO-l_Fq06ZN3gFRQv8LHB7ZNu6bvTk2yjjMwA9hw=s64",
      "userId": "02505320695703925391"
     },
     "user_tz": 300
    },
    "id": "k72acytPfIVs",
    "outputId": "e48efcee-733b-4b90-97fe-9df23e3cbe19"
   },
   "outputs": [],
   "source": [
    "B = A.set_index(['col1', 'col2'])\n",
    "B"
   ]
  },
  {
   "cell_type": "code",
   "execution_count": null,
   "metadata": {
    "colab": {
     "base_uri": "https://localhost:8080/",
     "height": 171
    },
    "colab_type": "code",
    "executionInfo": {
     "elapsed": 342,
     "status": "ok",
     "timestamp": 1583694772406,
     "user": {
      "displayName": "Michael Ou",
      "photoUrl": "https://lh3.googleusercontent.com/a-/AOh14GgO-l_Fq06ZN3gFRQv8LHB7ZNu6bvTk2yjjMwA9hw=s64",
      "userId": "02505320695703925391"
     },
     "user_tz": 300
    },
    "id": "gJGfJjXPfYmG",
    "outputId": "b1d7ea64-e206-4f35-a31f-3d6297ced61d"
   },
   "outputs": [],
   "source": [
    "# indexing is similar to regular index\n",
    "B.loc['a']"
   ]
  },
  {
   "cell_type": "code",
   "execution_count": null,
   "metadata": {
    "colab": {
     "base_uri": "https://localhost:8080/",
     "height": 52
    },
    "colab_type": "code",
    "executionInfo": {
     "elapsed": 474,
     "status": "ok",
     "timestamp": 1583694803748,
     "user": {
      "displayName": "Michael Ou",
      "photoUrl": "https://lh3.googleusercontent.com/a-/AOh14GgO-l_Fq06ZN3gFRQv8LHB7ZNu6bvTk2yjjMwA9hw=s64",
      "userId": "02505320695703925391"
     },
     "user_tz": 300
    },
    "id": "fec5SvzKf8qY",
    "outputId": "3c3655d9-cd47-44fd-fb6c-0ed5a3aafc48"
   },
   "outputs": [],
   "source": [
    "# tuple to index an item\n",
    "B.loc[('b', 'e')]"
   ]
  },
  {
   "cell_type": "code",
   "execution_count": null,
   "metadata": {
    "colab": {
     "base_uri": "https://localhost:8080/",
     "height": 263
    },
    "colab_type": "code",
    "executionInfo": {
     "elapsed": 346,
     "status": "ok",
     "timestamp": 1583696521379,
     "user": {
      "displayName": "Michael Ou",
      "photoUrl": "https://lh3.googleusercontent.com/a-/AOh14GgO-l_Fq06ZN3gFRQv8LHB7ZNu6bvTk2yjjMwA9hw=s64",
      "userId": "02505320695703925391"
     },
     "user_tz": 300
    },
    "id": "dH0HD6VCqf3w",
    "outputId": "feac1169-0d7c-48e8-fefa-ebc9947ede7d"
   },
   "outputs": [],
   "source": [
    "# slicing\n",
    "B.loc['b':'c']"
   ]
  },
  {
   "cell_type": "code",
   "execution_count": null,
   "metadata": {
    "colab": {
     "base_uri": "https://localhost:8080/",
     "height": 171
    },
    "colab_type": "code",
    "executionInfo": {
     "elapsed": 330,
     "status": "ok",
     "timestamp": 1583696916876,
     "user": {
      "displayName": "Michael Ou",
      "photoUrl": "https://lh3.googleusercontent.com/a-/AOh14GgO-l_Fq06ZN3gFRQv8LHB7ZNu6bvTk2yjjMwA9hw=s64",
      "userId": "02505320695703925391"
     },
     "user_tz": 300
    },
    "id": "88GIlmzCrK-7",
    "outputId": "7233af38-ce83-4ac3-aca4-2c7045e2e113"
   },
   "outputs": [],
   "source": [
    "# to check out all 'f'\n",
    "B.loc[B.index.get_level_values('col2') == 'f']"
   ]
  },
  {
   "cell_type": "code",
   "execution_count": null,
   "metadata": {
    "colab": {
     "base_uri": "https://localhost:8080/",
     "height": 171
    },
    "colab_type": "code",
    "executionInfo": {
     "elapsed": 381,
     "status": "ok",
     "timestamp": 1583696988830,
     "user": {
      "displayName": "Michael Ou",
      "photoUrl": "https://lh3.googleusercontent.com/a-/AOh14GgO-l_Fq06ZN3gFRQv8LHB7ZNu6bvTk2yjjMwA9hw=s64",
      "userId": "02505320695703925391"
     },
     "user_tz": 300
    },
    "id": "cYF9JRpvsB1V",
    "outputId": "62416948-e272-4b17-b991-63296987c0b6"
   },
   "outputs": [],
   "source": [
    "# or your can use index slicer\n",
    "B.loc[pd.IndexSlice[:, 'f'], :]"
   ]
  },
  {
   "cell_type": "code",
   "execution_count": null,
   "metadata": {
    "colab": {
     "base_uri": "https://localhost:8080/",
     "height": 171
    },
    "colab_type": "code",
    "executionInfo": {
     "elapsed": 344,
     "status": "ok",
     "timestamp": 1583702475382,
     "user": {
      "displayName": "Michael Ou",
      "photoUrl": "https://lh3.googleusercontent.com/a-/AOh14GgO-l_Fq06ZN3gFRQv8LHB7ZNu6bvTk2yjjMwA9hw=s64",
      "userId": "02505320695703925391"
     },
     "user_tz": 300
    },
    "id": "wdLGUgnzBDsA",
    "outputId": "772494b8-12c9-46e5-b38e-1a2e69514730"
   },
   "outputs": [],
   "source": [
    "# or you can use cross-section method xs\n",
    "B.xs('f', level=1, drop_level=False)"
   ]
  },
  {
   "cell_type": "code",
   "execution_count": null,
   "metadata": {
    "colab": {
     "base_uri": "https://localhost:8080/",
     "height": 325
    },
    "colab_type": "code",
    "executionInfo": {
     "elapsed": 358,
     "status": "ok",
     "timestamp": 1583696161099,
     "user": {
      "displayName": "Michael Ou",
      "photoUrl": "https://lh3.googleusercontent.com/a-/AOh14GgO-l_Fq06ZN3gFRQv8LHB7ZNu6bvTk2yjjMwA9hw=s64",
      "userId": "02505320695703925391"
     },
     "user_tz": 300
    },
    "id": "EViUlWQjo3j4",
    "outputId": "6a35c0f5-0191-43ec-d7ba-7f4c9dde8ced"
   },
   "outputs": [],
   "source": [
    "# to restore index\n",
    "B.reset_index()"
   ]
  },
  {
   "cell_type": "markdown",
   "metadata": {
    "colab_type": "text",
    "id": "ud24veoXXx7t"
   },
   "source": [
    "# Reshaping and pivot tables"
   ]
  },
  {
   "cell_type": "code",
   "execution_count": null,
   "metadata": {
    "colab": {},
    "colab_type": "code",
    "id": "sd-fK41JsNhq"
   },
   "outputs": [],
   "source": [
    "A"
   ]
  },
  {
   "cell_type": "code",
   "execution_count": null,
   "metadata": {},
   "outputs": [],
   "source": [
    "B = A.pivot(index='col1', columns='col2')\n",
    "B"
   ]
  },
  {
   "cell_type": "code",
   "execution_count": null,
   "metadata": {},
   "outputs": [],
   "source": [
    "B.stack()"
   ]
  },
  {
   "cell_type": "code",
   "execution_count": null,
   "metadata": {},
   "outputs": [],
   "source": [
    "users = pd.read_csv('users.zip', sep='|')\n",
    "users"
   ]
  },
  {
   "cell_type": "code",
   "execution_count": null,
   "metadata": {},
   "outputs": [],
   "source": [
    "users.pivot_table(values='age', index='occupation', columns='gender', aggfunc=['min', 'max', 'mean', 'std'])"
   ]
  },
  {
   "cell_type": "code",
   "execution_count": null,
   "metadata": {},
   "outputs": [],
   "source": [
    "# a very useful function to categorize numbers\n",
    "pd.cut(users.age, [0, 20, 40, 60, 100])"
   ]
  },
  {
   "cell_type": "code",
   "execution_count": null,
   "metadata": {},
   "outputs": [],
   "source": [
    "# it is effortless to calculate the female vs male ratio of different age groups\n",
    "users['age_group'] = pd.cut(users.age, [0, 30, 100])\n",
    "gender_age = users.pivot_table(values='age', index='occupation', columns=['gender', 'age_group'], aggfunc=['count'])\n",
    "gender_age"
   ]
  },
  {
   "cell_type": "code",
   "execution_count": null,
   "metadata": {},
   "outputs": [],
   "source": [
    "gender_age.plot.bar(figsize=(13, 6), stacked=True)"
   ]
  },
  {
   "cell_type": "markdown",
   "metadata": {},
   "source": [
    "# Groupby"
   ]
  },
  {
   "cell_type": "markdown",
   "metadata": {},
   "source": [
    "## Aggregation"
   ]
  },
  {
   "cell_type": "code",
   "execution_count": null,
   "metadata": {},
   "outputs": [],
   "source": [
    "# calculate female max age for each occupation\n",
    "users.query('gender == \"F\"').groupby('occupation').age.max()"
   ]
  },
  {
   "cell_type": "code",
   "execution_count": null,
   "metadata": {},
   "outputs": [],
   "source": [
    "# applying to specific columns\n",
    "users.groupby('gender').agg({'age':np.mean, 'user_id':np.size})"
   ]
  },
  {
   "cell_type": "code",
   "execution_count": null,
   "metadata": {},
   "outputs": [],
   "source": [
    "# applying multiple functions\n",
    "users.groupby('gender').age.agg(m=np.mean, s=np.size)"
   ]
  },
  {
   "cell_type": "code",
   "execution_count": null,
   "metadata": {},
   "outputs": [],
   "source": [
    "# Week 4 exercise\n",
    "Brand = ['Ford', 'Ford',   'Chevy',   'Chevy',   'Honda', 'Ford',   'Honda', 'Honda', 'Ford', 'Chevy']\n",
    "Model = ['F150', 'Escape', 'Charger', 'Charger', 'Civic', 'Escape', 'CRV',   'CRV',   'F150', 'Silverado']\n",
    "Type = ['Pickup', 'SUV', 'Sedan', 'Sedan', 'Sedan', 'SUV', 'SUV',   'SUV',   'Pickup', 'Pickup']\n",
    "Accidents = [25, 79, 46, 90, 29, 88, 79, 93, 20, 11]\n",
    "cars = pd.DataFrame(dict(brand=Brand, model=Model, type=Type, accidents=Accidents))\n",
    "cars"
   ]
  },
  {
   "cell_type": "code",
   "execution_count": null,
   "metadata": {},
   "outputs": [],
   "source": [
    "# Find the brand and model of the safest car\n",
    "cars.groupby(['brand', 'model']).accidents.mean().sort_values().tail(3)"
   ]
  },
  {
   "cell_type": "code",
   "execution_count": null,
   "metadata": {},
   "outputs": [],
   "source": [
    "# Find the safest brand for each vehicle type (one line)\n",
    "\n",
    "cars.groupby('brand').accidents.agg(s=np.sum, m=np.mean)dirty_brands.unstack()dirty_brands.unstack()"
   ]
  },
  {
   "cell_type": "code",
   "execution_count": null,
   "metadata": {},
   "outputs": [],
   "source": [
    "# Calculate the total accidents for each brand and vehicle type, respectively.\n",
    "\n",
    "\n"
   ]
  },
  {
   "cell_type": "markdown",
   "metadata": {
    "colab_type": "text",
    "id": "CQ7CElCbiGEZ"
   },
   "source": [
    "# Time Series"
   ]
  },
  {
   "cell_type": "markdown",
   "metadata": {
    "colab_type": "text",
    "id": "udTfZ_WQjWHI"
   },
   "source": [
    "## Convert to Timestamp"
   ]
  },
  {
   "cell_type": "code",
   "execution_count": null,
   "metadata": {
    "colab": {
     "base_uri": "https://localhost:8080/",
     "height": 52
    },
    "colab_type": "code",
    "executionInfo": {
     "elapsed": 332,
     "status": "ok",
     "timestamp": 1583677984267,
     "user": {
      "displayName": "Michael Ou",
      "photoUrl": "https://lh3.googleusercontent.com/a-/AOh14GgO-l_Fq06ZN3gFRQv8LHB7ZNu6bvTk2yjjMwA9hw=s64",
      "userId": "02505320695703925391"
     },
     "user_tz": 300
    },
    "id": "luFfkG2gjWZa",
    "outputId": "e2197b30-4823-4fc3-cd7e-7d06312ca0bb"
   },
   "outputs": [],
   "source": [
    "# You can use either pd.to_datetime or pd.Timestamp\n",
    "print(pd.to_datetime('2010/11/12'))\n",
    "print(pd.Timestamp('2020/11/12'))"
   ]
  },
  {
   "cell_type": "code",
   "execution_count": null,
   "metadata": {
    "colab": {
     "base_uri": "https://localhost:8080/",
     "height": 52
    },
    "colab_type": "code",
    "executionInfo": {
     "elapsed": 356,
     "status": "ok",
     "timestamp": 1583678124424,
     "user": {
      "displayName": "Michael Ou",
      "photoUrl": "https://lh3.googleusercontent.com/a-/AOh14GgO-l_Fq06ZN3gFRQv8LHB7ZNu6bvTk2yjjMwA9hw=s64",
      "userId": "02505320695703925391"
     },
     "user_tz": 300
    },
    "id": "o-0Mjo1YkSK7",
    "outputId": "4c5db823-0540-4384-c81b-f32871c93d35"
   },
   "outputs": [],
   "source": [
    "# pandas usually is very intelligent to convert dates in different format but you can also specify the format mannually\n",
    "print(pd.to_datetime('2010/11/12', format='%Y/%m/%d'))\n",
    "print(pd.to_datetime('12-11-2020 00:00', format='%d-%m-%Y %H:%M'))"
   ]
  },
  {
   "cell_type": "markdown",
   "metadata": {
    "colab_type": "text",
    "id": "2iecHP9hh4e6"
   },
   "source": [
    "## Construct DatatimeIndex"
   ]
  },
  {
   "cell_type": "code",
   "execution_count": null,
   "metadata": {
    "colab": {
     "base_uri": "https://localhost:8080/",
     "height": 35
    },
    "colab_type": "code",
    "executionInfo": {
     "elapsed": 533,
     "status": "ok",
     "timestamp": 1583677559994,
     "user": {
      "displayName": "Michael Ou",
      "photoUrl": "https://lh3.googleusercontent.com/a-/AOh14GgO-l_Fq06ZN3gFRQv8LHB7ZNu6bvTk2yjjMwA9hw=s64",
      "userId": "02505320695703925391"
     },
     "user_tz": 300
    },
    "id": "a8TkZrG_iaHF",
    "outputId": "2c32dafe-0624-4bab-e276-096cfd9c79a7"
   },
   "outputs": [],
   "source": [
    "# pd.DatetimeIndex is frequently used to construct datetimeIndex\n",
    "pd.DatetimeIndex(['2005/11/23', '2010.12.31', 'Jul 31, 2009', '2012-2-28'])"
   ]
  },
  {
   "cell_type": "code",
   "execution_count": null,
   "metadata": {
    "colab": {
     "base_uri": "https://localhost:8080/",
     "height": 35
    },
    "colab_type": "code",
    "executionInfo": {
     "elapsed": 491,
     "status": "ok",
     "timestamp": 1583677547525,
     "user": {
      "displayName": "Michael Ou",
      "photoUrl": "https://lh3.googleusercontent.com/a-/AOh14GgO-l_Fq06ZN3gFRQv8LHB7ZNu6bvTk2yjjMwA9hw=s64",
      "userId": "02505320695703925391"
     },
     "user_tz": 300
    },
    "id": "SHSSmLJuh3fO",
    "outputId": "b351fd9d-a205-49a1-d8b0-08c30a0ceb8f"
   },
   "outputs": [],
   "source": [
    "#  to_datetime can also be used\n",
    "pd.to_datetime(['2005/11/23', '2010.12.31', 'Jul 31, 2009', '2012-2-28'])"
   ]
  },
  {
   "cell_type": "code",
   "execution_count": null,
   "metadata": {
    "colab": {
     "base_uri": "https://localhost:8080/",
     "height": 104
    },
    "colab_type": "code",
    "executionInfo": {
     "elapsed": 339,
     "status": "ok",
     "timestamp": 1583678400938,
     "user": {
      "displayName": "Michael Ou",
      "photoUrl": "https://lh3.googleusercontent.com/a-/AOh14GgO-l_Fq06ZN3gFRQv8LHB7ZNu6bvTk2yjjMwA9hw=s64",
      "userId": "02505320695703925391"
     },
     "user_tz": 300
    },
    "id": "UlHHw8GWidJQ",
    "outputId": "0cf5d18a-e05c-4e9d-99ff-6c90d2822076"
   },
   "outputs": [],
   "source": [
    "#  to_datetime will retuen series if the input is Series\n",
    "pd.to_datetime(pd.Series(['2005/11/23', '2010.12.31', 'Jul 31, 2009', '2012-2-28']))"
   ]
  },
  {
   "cell_type": "code",
   "execution_count": null,
   "metadata": {
    "colab": {
     "base_uri": "https://localhost:8080/",
     "height": 35
    },
    "colab_type": "code",
    "executionInfo": {
     "elapsed": 368,
     "status": "ok",
     "timestamp": 1583678526179,
     "user": {
      "displayName": "Michael Ou",
      "photoUrl": "https://lh3.googleusercontent.com/a-/AOh14GgO-l_Fq06ZN3gFRQv8LHB7ZNu6bvTk2yjjMwA9hw=s64",
      "userId": "02505320695703925391"
     },
     "user_tz": 300
    },
    "id": "SM_R0cP9lwIq",
    "outputId": "52fa0550-540a-4819-9ddd-d6522692f1ba"
   },
   "outputs": [],
   "source": [
    "# but if you use it as index for Series or DataFrame it will be converted to DatatimeIndex automatically\n",
    "A = pd.Series(range(4), index=pd.to_datetime(pd.Series(['2005/11/23', '2010.12.31', 'Jul 31, 2009', '2012-2-28'])))\n",
    "A.index"
   ]
  },
  {
   "cell_type": "code",
   "execution_count": null,
   "metadata": {
    "colab": {
     "base_uri": "https://localhost:8080/",
     "height": 156
    },
    "colab_type": "code",
    "executionInfo": {
     "elapsed": 512,
     "status": "ok",
     "timestamp": 1583678648244,
     "user": {
      "displayName": "Michael Ou",
      "photoUrl": "https://lh3.googleusercontent.com/a-/AOh14GgO-l_Fq06ZN3gFRQv8LHB7ZNu6bvTk2yjjMwA9hw=s64",
      "userId": "02505320695703925391"
     },
     "user_tz": 300
    },
    "id": "V8LwWyxxmMv6",
    "outputId": "20578079-4e06-4322-a2b9-67e56dadb64a"
   },
   "outputs": [],
   "source": [
    "# if you have a DataFrame with year, month and day columns, you could convert to TimeStamp Series\n",
    "df = pd.DataFrame({'year': [2015, 2016], 'month': [2, 3], 'day': [4, 5], 'hour': [2, 3]})\n",
    "print(df, '\\n\\n')\n",
    "\n",
    "print(pd.to_datetime(df))"
   ]
  },
  {
   "cell_type": "markdown",
   "metadata": {
    "colab_type": "text",
    "id": "YX9_RaUCujyo"
   },
   "source": [
    "## Generating ranges of timestamps"
   ]
  },
  {
   "cell_type": "code",
   "execution_count": null,
   "metadata": {
    "colab": {
     "base_uri": "https://localhost:8080/",
     "height": 139
    },
    "colab_type": "code",
    "executionInfo": {
     "elapsed": 338,
     "status": "ok",
     "timestamp": 1583680750052,
     "user": {
      "displayName": "Michael Ou",
      "photoUrl": "https://lh3.googleusercontent.com/a-/AOh14GgO-l_Fq06ZN3gFRQv8LHB7ZNu6bvTk2yjjMwA9hw=s64",
      "userId": "02505320695703925391"
     },
     "user_tz": 300
    },
    "id": "e8V5XLuOuilj",
    "outputId": "bbc6bc9b-59e6-4d36-c45c-9d23a8607344"
   },
   "outputs": [],
   "source": [
    "start = pd.datetime(2011, 1, 1)\n",
    "end = pd.datetime(2012, 12, 31)\n",
    "time_idx = pd.date_range(start, end, freq='M')\n",
    "time_idx"
   ]
  },
  {
   "cell_type": "code",
   "execution_count": null,
   "metadata": {
    "colab": {
     "base_uri": "https://localhost:8080/",
     "height": 139
    },
    "colab_type": "code",
    "executionInfo": {
     "elapsed": 360,
     "status": "ok",
     "timestamp": 1583680835358,
     "user": {
      "displayName": "Michael Ou",
      "photoUrl": "https://lh3.googleusercontent.com/a-/AOh14GgO-l_Fq06ZN3gFRQv8LHB7ZNu6bvTk2yjjMwA9hw=s64",
      "userId": "02505320695703925391"
     },
     "user_tz": 300
    },
    "id": "CvqwcKfGuzzT",
    "outputId": "3558ca0e-8a99-4f90-f9a0-d54573597c2a"
   },
   "outputs": [],
   "source": [
    "# if you just want to see the business days\n",
    "pd.bdate_range(start, end, freq='M')"
   ]
  },
  {
   "cell_type": "markdown",
   "metadata": {
    "colab_type": "text",
    "id": "VoE2OiHi7-Ni"
   },
   "source": [
    "## Indexing Datetime"
   ]
  },
  {
   "cell_type": "code",
   "execution_count": null,
   "metadata": {
    "colab": {
     "base_uri": "https://localhost:8080/",
     "height": 225
    },
    "colab_type": "code",
    "executionInfo": {
     "elapsed": 435,
     "status": "ok",
     "timestamp": 1583684543081,
     "user": {
      "displayName": "Michael Ou",
      "photoUrl": "https://lh3.googleusercontent.com/a-/AOh14GgO-l_Fq06ZN3gFRQv8LHB7ZNu6bvTk2yjjMwA9hw=s64",
      "userId": "02505320695703925391"
     },
     "user_tz": 300
    },
    "id": "gZ-UdLwh8CNB",
    "outputId": "576c8ff5-9200-4298-9c12-11affd5f85eb"
   },
   "outputs": [],
   "source": [
    "time_idx = pd.date_range('2000', '2009', freq='D')\n",
    "time_ser = pd.Series(np.random.random(time_idx.shape), index=time_idx)\n",
    "time_ser"
   ]
  },
  {
   "cell_type": "code",
   "execution_count": null,
   "metadata": {
    "colab": {
     "base_uri": "https://localhost:8080/",
     "height": 659
    },
    "colab_type": "code",
    "executionInfo": {
     "elapsed": 350,
     "status": "ok",
     "timestamp": 1583685625762,
     "user": {
      "displayName": "Michael Ou",
      "photoUrl": "https://lh3.googleusercontent.com/a-/AOh14GgO-l_Fq06ZN3gFRQv8LHB7ZNu6bvTk2yjjMwA9hw=s64",
      "userId": "02505320695703925391"
     },
     "user_tz": 300
    },
    "id": "EJC9GVxGAqbU",
    "outputId": "1bd02f53-ccc4-4740-b45d-7a742b5de6d1"
   },
   "outputs": [],
   "source": [
    "#  If the string is less accurate than the index, it will be treated as a slice, otherwise as an exact match.\n",
    "print('2005-01-01\\n', time_ser['2005-01-01'], '\\n\\n')\n",
    "print('2005-01\\n', time_ser['2005-01'])"
   ]
  },
  {
   "cell_type": "code",
   "execution_count": null,
   "metadata": {
    "colab": {
     "base_uri": "https://localhost:8080/",
     "height": 225
    },
    "colab_type": "code",
    "executionInfo": {
     "elapsed": 352,
     "status": "ok",
     "timestamp": 1583684633811,
     "user": {
      "displayName": "Michael Ou",
      "photoUrl": "https://lh3.googleusercontent.com/a-/AOh14GgO-l_Fq06ZN3gFRQv8LHB7ZNu6bvTk2yjjMwA9hw=s64",
      "userId": "02505320695703925391"
     },
     "user_tz": 300
    },
    "id": "lW0o9Vgg8E80",
    "outputId": "499d5637-377a-4714-ffae-ff60358e8a84"
   },
   "outputs": [],
   "source": [
    "# time indexing\n",
    "print(time_ser['2005-01-01':'2007-02-15'])\n"
   ]
  },
  {
   "cell_type": "code",
   "execution_count": null,
   "metadata": {
    "colab": {
     "base_uri": "https://localhost:8080/",
     "height": 225
    },
    "colab_type": "code",
    "executionInfo": {
     "elapsed": 333,
     "status": "ok",
     "timestamp": 1583684619415,
     "user": {
      "displayName": "Michael Ou",
      "photoUrl": "https://lh3.googleusercontent.com/a-/AOh14GgO-l_Fq06ZN3gFRQv8LHB7ZNu6bvTk2yjjMwA9hw=s64",
      "userId": "02505320695703925391"
     },
     "user_tz": 300
    },
    "id": "0QeR75Lv9P9O",
    "outputId": "5a291df6-6cf5-4ffa-f0a2-9364b6bf2111"
   },
   "outputs": [],
   "source": [
    "# partial indexing\n",
    "time_ser['2005-01':'2007-02']"
   ]
  },
  {
   "cell_type": "code",
   "execution_count": null,
   "metadata": {
    "colab": {
     "base_uri": "https://localhost:8080/",
     "height": 225
    },
    "colab_type": "code",
    "executionInfo": {
     "elapsed": 303,
     "status": "ok",
     "timestamp": 1583684660607,
     "user": {
      "displayName": "Michael Ou",
      "photoUrl": "https://lh3.googleusercontent.com/a-/AOh14GgO-l_Fq06ZN3gFRQv8LHB7ZNu6bvTk2yjjMwA9hw=s64",
      "userId": "02505320695703925391"
     },
     "user_tz": 300
    },
    "id": "CM_AKnbg9feV",
    "outputId": "1f9b6faa-2201-428b-d541-beae84252611"
   },
   "outputs": [],
   "source": [
    "# partial indexing, year only\n",
    "time_ser['2005':'2007']"
   ]
  },
  {
   "cell_type": "code",
   "execution_count": null,
   "metadata": {
    "colab": {
     "base_uri": "https://localhost:8080/",
     "height": 225
    },
    "colab_type": "code",
    "executionInfo": {
     "elapsed": 339,
     "status": "ok",
     "timestamp": 1583686119686,
     "user": {
      "displayName": "Michael Ou",
      "photoUrl": "https://lh3.googleusercontent.com/a-/AOh14GgO-l_Fq06ZN3gFRQv8LHB7ZNu6bvTk2yjjMwA9hw=s64",
      "userId": "02505320695703925391"
     },
     "user_tz": 300
    },
    "id": "UGVY7sk9CUq8",
    "outputId": "d200be1b-51ad-482c-8bc7-4b5baa45340f"
   },
   "outputs": [],
   "source": [
    "# Shifting / lagging\n",
    "time_ser.shift(2, freq='W') # careful this will also change the frequency of the index"
   ]
  },
  {
   "cell_type": "markdown",
   "metadata": {
    "colab_type": "text",
    "id": "HyatCim2DiYU"
   },
   "source": [
    "## Resampling"
   ]
  },
  {
   "cell_type": "code",
   "execution_count": null,
   "metadata": {
    "colab": {
     "base_uri": "https://localhost:8080/",
     "height": 35
    },
    "colab_type": "code",
    "executionInfo": {
     "elapsed": 236,
     "status": "ok",
     "timestamp": 1583686661217,
     "user": {
      "displayName": "Michael Ou",
      "photoUrl": "https://lh3.googleusercontent.com/a-/AOh14GgO-l_Fq06ZN3gFRQv8LHB7ZNu6bvTk2yjjMwA9hw=s64",
      "userId": "02505320695703925391"
     },
     "user_tz": 300
    },
    "id": "G50bX0vyCebs",
    "outputId": "0b391da8-81f9-427a-b6ff-8e00b9af3592"
   },
   "outputs": [],
   "source": [
    "# basic\n",
    "rs = time_ser.resample('M')\n",
    "rs"
   ]
  },
  {
   "cell_type": "code",
   "execution_count": null,
   "metadata": {
    "colab": {
     "base_uri": "https://localhost:8080/",
     "height": 503
    },
    "colab_type": "code",
    "executionInfo": {
     "elapsed": 387,
     "status": "ok",
     "timestamp": 1583686695902,
     "user": {
      "displayName": "Michael Ou",
      "photoUrl": "https://lh3.googleusercontent.com/a-/AOh14GgO-l_Fq06ZN3gFRQv8LHB7ZNu6bvTk2yjjMwA9hw=s64",
      "userId": "02505320695703925391"
     },
     "user_tz": 300
    },
    "id": "fIPW27_uE3jM",
    "outputId": "13cae94b-0608-4cf2-a62c-d6c4bfee7e47"
   },
   "outputs": [],
   "source": [
    "# apply stat functions: sum, mean, std, sem, max, min, median, first, last, ohlc:\n",
    "print('monthly sum:\\n', time_ser.resample('M').sum(), '\\n\\n')\n",
    "print('monthly mean:\\n', time_ser.resample('MS').mean())"
   ]
  },
  {
   "cell_type": "code",
   "execution_count": null,
   "metadata": {
    "colab": {
     "base_uri": "https://localhost:8080/",
     "height": 225
    },
    "colab_type": "code",
    "executionInfo": {
     "elapsed": 451,
     "status": "ok",
     "timestamp": 1583686953048,
     "user": {
      "displayName": "Michael Ou",
      "photoUrl": "https://lh3.googleusercontent.com/a-/AOh14GgO-l_Fq06ZN3gFRQv8LHB7ZNu6bvTk2yjjMwA9hw=s64",
      "userId": "02505320695703925391"
     },
     "user_tz": 300
    },
    "id": "PjlX1A33FhW0",
    "outputId": "80b6cb36-6465-484c-a7ae-0d730e8f7874"
   },
   "outputs": [],
   "source": [
    "# apply general function\n",
    "time_ser.resample('M').apply(lambda x: (x**2).sum())"
   ]
  },
  {
   "cell_type": "markdown",
   "metadata": {},
   "source": [
    "# Visualization"
   ]
  },
  {
   "cell_type": "code",
   "execution_count": null,
   "metadata": {},
   "outputs": [],
   "source": [
    "users.groupby('occupation').age.mean().plot()"
   ]
  },
  {
   "cell_type": "code",
   "execution_count": null,
   "metadata": {},
   "outputs": [],
   "source": [
    "users.groupby('occupation').age.mean().plot.bar()"
   ]
  },
  {
   "cell_type": "code",
   "execution_count": null,
   "metadata": {},
   "outputs": [],
   "source": [
    "tractor = pd.read_excel('test.10-24.2-time_RAR.xlsx', 'test.10-24.2-time')\n",
    "tractor"
   ]
  },
  {
   "cell_type": "code",
   "execution_count": null,
   "metadata": {},
   "outputs": [],
   "source": [
    "tractor.plot.scatter('longitude', 'lattitude', s=1, c='eng_torque', cmap='jet', vmin=10, vmax=15)"
   ]
  },
  {
   "cell_type": "code",
   "execution_count": null,
   "metadata": {},
   "outputs": [],
   "source": [
    "# seems there is outlier\n",
    "tractor_clean = tractor.query('lattitude > 40')\n",
    "tractor_clean.plot.scatter('longitude', 'lattitude', s=1, c='eng_torque', cmap='jet', vmin=10, vmax=15)"
   ]
  },
  {
   "cell_type": "markdown",
   "metadata": {
    "colab": {},
    "colab_type": "code",
    "id": "jqHP6-tdA-Hm"
   },
   "source": [
    "# Covid19 Analysis"
   ]
  },
  {
   "cell_type": "code",
   "execution_count": null,
   "metadata": {},
   "outputs": [],
   "source": [
    "#\n",
    "covid19 = pd.read_csv('https://raw.githubusercontent.com/CSSEGISandData/COVID-19/master/csse_covid_19_data/csse_covid_19_time_series/time_series_19-covid-Confirmed.csv')\n",
    "covid19\n",
    "# change the column names\n",
    "covid19.rename({'Province/State':'Province', 'Country/Region':'Country'})\n",
    "# exclude mainland china because the outbreak has occured and has been contained\n",
    "covid19_nochina = covid19.query('Country/Region != \"Mainland China\"')\n",
    "covid19_nochina"
   ]
  }
 ],
 "metadata": {
  "colab": {
   "authorship_tag": "ABX9TyPy4LdjkMDgj9MWYp3b6e62",
   "collapsed_sections": [],
   "name": "week8_Pandas_advanced.ipynb",
   "provenance": [],
   "toc_visible": true
  },
  "kernelspec": {
   "display_name": "Python 3",
   "language": "python",
   "name": "python3"
  },
  "language_info": {
   "codemirror_mode": {
    "name": "ipython",
    "version": 3
   },
   "file_extension": ".py",
   "mimetype": "text/x-python",
   "name": "python",
   "nbconvert_exporter": "python",
   "pygments_lexer": "ipython3",
   "version": "3.7.6"
  }
 },
 "nbformat": 4,
 "nbformat_minor": 1
}
