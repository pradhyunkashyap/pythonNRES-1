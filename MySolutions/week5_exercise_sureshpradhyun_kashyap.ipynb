{
  "nbformat": 4,
  "nbformat_minor": 0,
  "metadata": {
    "kernelspec": {
      "display_name": "Python 3",
      "language": "python",
      "name": "python3"
    },
    "language_info": {
      "codemirror_mode": {
        "name": "ipython",
        "version": 3
      },
      "file_extension": ".py",
      "mimetype": "text/x-python",
      "name": "python",
      "nbconvert_exporter": "python",
      "pygments_lexer": "ipython3",
      "version": "3.7.6"
    },
    "colab": {
      "name": "week5_exercise_sureshpradhyun_kashyap.ipynb",
      "provenance": [],
      "collapsed_sections": []
    }
  },
  "cells": [
    {
      "cell_type": "markdown",
      "metadata": {
        "id": "SG3fPBKvoSc-",
        "colab_type": "text"
      },
      "source": [
        "### 1. Write a format string (using `str.format()` and `f'string'`) that will take the following four element tuple:\n",
        "\n",
        "`( 2, 123.4567, 10000, 12345.67)`\n",
        "\n",
        "and produce:\n",
        "    \n",
        "`'file_002 :   123.46, 1.00e+04, 1.23e+04'`"
      ]
    },
    {
      "cell_type": "code",
      "metadata": {
        "id": "sZVph1hxoXps",
        "colab_type": "code",
        "outputId": "17e46e62-1ebf-4806-b282-9857e396a1fb",
        "colab": {
          "base_uri": "https://localhost:8080/",
          "height": 35
        }
      },
      "source": [
        "tup1 = ( 2, 123.4567, 10000, 12345.67)\n",
        "\n",
        "def strngFormatter(atuple):\n",
        "  element1 = atuple[0]\n",
        "  element2 = '{:.2f}'.format(atuple[1])\n",
        "  element3 = '{:12.2e}'.format(atuple[2])\n",
        "  element4 = '{:12.2e}'.format(atuple[3])\n",
        "\n",
        "  result = \"file_00%d : %s,%s,%s\"%(element1,element2, element3, element4)\n",
        "  \n",
        "  return result\n",
        "\n",
        "strngFormatter(tup1)"
      ],
      "execution_count": 1,
      "outputs": [
        {
          "output_type": "execute_result",
          "data": {
            "text/plain": [
              "'file_002 : 123.46,    1.00e+04,    1.23e+04'"
            ]
          },
          "metadata": {
            "tags": []
          },
          "execution_count": 1
        }
      ]
    },
    {
      "cell_type": "markdown",
      "metadata": {
        "id": "hX58_TI7oSdA",
        "colab_type": "text"
      },
      "source": [
        "### 2. Write a python function that output the following formatted string based on the input iterable:\n",
        "\n",
        "`'The n numbers are: i1, i2, i3, ...'`\n",
        "    \n",
        "where `n` is the number in the iterable and `i1, i2 ...` are the items inside the iterable. \n",
        "\n",
        "for example:\n",
        "\n",
        "`func([1, 2, 3])` will return `'The 3 numbers are: 1, 2, 3'`\n",
        "\n",
        "`func((6, 7, 8, 9))` will return `'The 4 numbers are: 6, 7, 8, 9'`"
      ]
    },
    {
      "cell_type": "code",
      "metadata": {
        "id": "BhU603tMuq3m",
        "colab_type": "code",
        "outputId": "fd2a012b-33d9-4627-a2d6-45ffaa693750",
        "colab": {
          "base_uri": "https://localhost:8080/",
          "height": 35
        }
      },
      "source": [
        "myInput = (1,2,3,6,7,9)\n",
        "\n",
        "def displayInput(input):\n",
        "\n",
        "  a = \"The %d numbers are: \" %(len(input))\n",
        "  b = \"\"\n",
        "  for i in input:\n",
        "    b = b + \" \"\n",
        "    b = b + str(i)\n",
        "    \n",
        "  result = a+b\n",
        "  return result\n",
        "  \n",
        "displayInput(myInput)"
      ],
      "execution_count": 0,
      "outputs": [
        {
          "output_type": "execute_result",
          "data": {
            "text/plain": [
              "'The 6 numbers are:  1 2 3 6 7 9'"
            ]
          },
          "metadata": {
            "tags": []
          },
          "execution_count": 79
        }
      ]
    },
    {
      "cell_type": "markdown",
      "metadata": {
        "id": "lGUjwfw8oSdB",
        "colab_type": "text"
      },
      "source": [
        "### 3. Write a similar function as the last one but it inputs variable-length arguments instead\n",
        "\n",
        "`func(1, 2, 3)` will return `'The 3 numbers are: 1, 2, 3'`\n",
        "\n",
        "`func(6, 7, 8, 9)` will return `'The 4 numbers are: 6, 7, 8, 9'`"
      ]
    },
    {
      "cell_type": "code",
      "metadata": {
        "id": "mQzeT2ba23O0",
        "colab_type": "code",
        "outputId": "d27c3349-d876-4b63-ec68-d10aa1bed48a",
        "colab": {
          "base_uri": "https://localhost:8080/",
          "height": 35
        }
      },
      "source": [
        "varInput = (1,2,3,6,7,9)\n",
        "\n",
        "def variableInput(*argv):\n",
        "  a = \"The %d numbers are: \" %(len(argv))\n",
        "  b = \"\"\n",
        "  for i in argv:\n",
        "    b = b + \" \"\n",
        "    b = b + str(i)\n",
        "  result = a+b\n",
        "  return result\n",
        "  \n",
        "variableInput(1,2,3,4,5,5,5,5)"
      ],
      "execution_count": 0,
      "outputs": [
        {
          "output_type": "execute_result",
          "data": {
            "text/plain": [
              "'The 8 numbers are:  1 2 3 4 5 5 5 5'"
            ]
          },
          "metadata": {
            "tags": []
          },
          "execution_count": 80
        }
      ]
    },
    {
      "cell_type": "markdown",
      "metadata": {
        "id": "VQBrMizOoSdC",
        "colab_type": "text"
      },
      "source": [
        "### 4. Write a format string (f'string') that will take the following tuple and return the formatted string below:\n",
        "\n",
        "Tuple: `(4, 30, 2017, 2, 27)`\n",
        "\n",
        "Return: `'02 27 2017 04 30'`"
      ]
    },
    {
      "cell_type": "code",
      "metadata": {
        "id": "2iJXGcdj4b8e",
        "colab_type": "code",
        "outputId": "da593114-a199-40cf-a7e2-5b4d1d16f2d9",
        "colab": {
          "base_uri": "https://localhost:8080/",
          "height": 35
        }
      },
      "source": [
        "tup2 = (4, 30, 2017,2,27)\n",
        "\n",
        "def flipper(atuple):\n",
        "  element1 = atuple[0]\n",
        "  element2 = atuple[1]\n",
        "  element3 = atuple[2]\n",
        "  element4 = atuple[3]\n",
        "  element5 = atuple[4]\n",
        "\n",
        "  result = \"%d, %d, %d, %d, %d\"%(element4,element5, element3, element1, element2)\n",
        "  \n",
        "  return result\n",
        "\n",
        "flipper(tup2)"
      ],
      "execution_count": 0,
      "outputs": [
        {
          "output_type": "execute_result",
          "data": {
            "text/plain": [
              "'2, 27, 2017, 4, 30'"
            ]
          },
          "metadata": {
            "tags": []
          },
          "execution_count": 84
        }
      ]
    },
    {
      "cell_type": "markdown",
      "metadata": {
        "id": "PA9EMu4eoSdD",
        "colab_type": "text"
      },
      "source": [
        "### 5. Write a format string (f'string') that will take the following input and return the formatted string below:\n",
        "\n",
        "Input: `['oranges', 1.3, 'lemons', 1.1]`\n",
        "    \n",
        "Return: `'The weight of an orange is 1.3 and the weight of a lemon is 1.1 and the total weight is 2.4'`"
      ]
    },
    {
      "cell_type": "code",
      "metadata": {
        "id": "sbwbCRz1DIsj",
        "colab_type": "code",
        "colab": {
          "base_uri": "https://localhost:8080/",
          "height": 35
        },
        "outputId": "e7718fd7-5d34-43e8-d125-9492ef547cd8"
      },
      "source": [
        "finput = ['oranges', 1.3, 'lemons', 1.1]\n",
        "\n",
        "def fruits(atuple):\n",
        "  element1 = atuple[0]\n",
        "  element2 = (atuple[1])\n",
        "  element3 = atuple[2]\n",
        "  element4 = (atuple[3])\n",
        "  element5 = element2 + element4\n",
        "\n",
        "\n",
        "  result = \"The weight of an %s is %f and the weight of a %s is %f and the total weight is %f\"%(element1,element2, element3, element4, element5)\n",
        "  \n",
        "  return result\n",
        "\n",
        "fruits(finput)"
      ],
      "execution_count": 12,
      "outputs": [
        {
          "output_type": "execute_result",
          "data": {
            "text/plain": [
              "'The weight of an oranges is 1.300000 and the weight of a lemons is 1.100000 and the total weight is 2.400000'"
            ]
          },
          "metadata": {
            "tags": []
          },
          "execution_count": 12
        }
      ]
    },
    {
      "cell_type": "markdown",
      "metadata": {
        "id": "OxJnLJFcoSdE",
        "colab_type": "text"
      },
      "source": [
        "### 6. Write a function that will format each item in an input iterable object into a customized width \n",
        "\n",
        "syntax: `func(iterable, width)`\n",
        "\n",
        "for example:\n",
        "    \n",
        "`func([1, 2, 3, 4, 5], 3)`  return `'  1  2  3  4  5'`\n",
        "\n",
        "`func([1, 2, 3, 4, 5], 2)`  return `' 1 2 3 4 5'`"
      ]
    },
    {
      "cell_type": "code",
      "metadata": {
        "id": "b98RBO2xE6J1",
        "colab_type": "code",
        "colab": {
          "base_uri": "https://localhost:8080/",
          "height": 35
        },
        "outputId": "811008eb-d136-4f2b-eba0-a370d6ef5d20"
      },
      "source": [
        "finput = [1,2,3,4,5]\n",
        "\n",
        "def customizeWidth(iterable,width):\n",
        "\n",
        "  result = iterable\n",
        "  return result\n",
        "\n",
        "customizeWidth(finput,3)"
      ],
      "execution_count": 14,
      "outputs": [
        {
          "output_type": "execute_result",
          "data": {
            "text/plain": [
              "[1, 2, 3, 4, 5]"
            ]
          },
          "metadata": {
            "tags": []
          },
          "execution_count": 14
        }
      ]
    },
    {
      "cell_type": "markdown",
      "metadata": {
        "id": "lkj3ma9yoSdF",
        "colab_type": "text"
      },
      "source": [
        "### 7. The USGS Water Data service provides retrival of streamflow data at the USGS stream gages. The download url follows the pattern below. Write a Python program 1) generate the url for a given list of gage numbers; 2) read this url and download the data to csv file (do not use numpy or pandas); 3) based on the downloaded data calculate the monthly stasticstics including maximum, minimum and average of the streamflow data and save it to another csv file. The data need to be formatted to 2 decimal digits. 4) calculate the average annual runoff of each gage (expressed in acre-feet) \n",
        "\n",
        "\n",
        "url: https://waterdata.usgs.gov/nwis/dv?&cb_00060=on&format=rdb&site_no=06803495&referred_module=sw&period=&begin_date=2019-02-11&end_date=2020-02-11\n",
        "\n",
        "where `&site_no=06803495` define which gages are included in this data retrieval; for multiple gages, simply repeat it, e.g. `&site_no=06803495&site_no=06803486`;\n",
        "\n",
        "the datas are specified by `&period=&begin_date=2018-02-11&end_date=2020-02-11`\n",
        "\n",
        "You could test your program using the gages `['06803495', '06803486']` for the period between `2000-10-1` and `2019-9-30`\n",
        "\n",
        "Hint 1: using the str.format() method to construct the url.\n",
        "\n",
        "Hint 2: use the `urllib.request.urlopen()` to download the url:\n",
        "```python\n",
        "    from urllib.request import urlopen\n",
        "    f = urlopen(a_url)\n",
        "    lines = f.readlines()\n",
        "```\n",
        "\n",
        "Hint 3: skip the lines starts with `#` in the downloaded data.\n",
        "\n",
        "Hint 4: print some of the downloaded lines and identify the elements in each line.\n",
        "\n",
        "Hint 5: using the str.format() or f-string method to write `csv` file.\n",
        "\n",
        "Hint 6: the monthly stasticstics refer to the time series of monthly stasticstics.\n",
        "\n",
        "Hint 7: for the average annual runoff, you need to calculate the total runoff for each year and then calculate average of these annual runoff."
      ]
    },
    {
      "cell_type": "code",
      "metadata": {
        "id": "7PetrBJFFooS",
        "colab_type": "code",
        "colab": {}
      },
      "source": [
        "from urllib.request import urlopen\n",
        "import math\n",
        "import datetime\n",
        "\n",
        "f = urlopen(' https://waterdata.usgs.gov/nwis/dv?&cb_00060=on&format=rdb&site_no=06803495&referred_module=sw&period=&begin_date=2019-02-11&end_date=2020-02-11')\n",
        "lines = f.readlines()"
      ],
      "execution_count": 0,
      "outputs": []
    },
    {
      "cell_type": "code",
      "metadata": {
        "id": "V2hMaANXFpYM",
        "colab_type": "code",
        "colab": {
          "base_uri": "https://localhost:8080/",
          "height": 35
        },
        "outputId": "c8bd7f86-2479-4aac-9288-f0cae031d4cd"
      },
      "source": [
        "def generate_url(gagelist, begin_date, end_date):  \n",
        "  \n",
        "  gages = ('&site_no={}' * len(gagelist)).format(*gagelist)\n",
        "  period = f'&period=&begin_date={begin_date}&end_date={end_date}'\n",
        "  return f'https://waterdata.usgs.gov/nwis/dv?&cb_00060=on&format=rdb{gages}&referred_module=sw{period}'\n",
        "\n",
        "print(generate_url(['06803495', '06803486'], '2000-10-10', '2019-09-30'))"
      ],
      "execution_count": 25,
      "outputs": [
        {
          "output_type": "stream",
          "text": [
            "https://waterdata.usgs.gov/nwis/dv?&cb_00060=on&format=rdb&site_no=06803495&site_no=06803486&referred_module=sw&period=&begin_date=2000-10-10&end_date=2019-09-30\n"
          ],
          "name": "stdout"
        }
      ]
    },
    {
      "cell_type": "code",
      "metadata": {
        "id": "tBkQlVzEF6wA",
        "colab_type": "code",
        "colab": {}
      },
      "source": [
        "def read_usgs_flowdata(url):\n",
        "    f = urlopen(url)\n",
        "    return f.readlines()\n",
        "\n",
        "lines = read_usgs_flowdata(generate_url(['06803495', '06803486'], '2000-10-10', '2019-09-30'))"
      ],
      "execution_count": 0,
      "outputs": []
    },
    {
      "cell_type": "code",
      "metadata": {
        "id": "P8ebZxR3HKnV",
        "colab_type": "code",
        "colab": {
          "base_uri": "https://localhost:8080/",
          "height": 550
        },
        "outputId": "6ca67ac2-98e5-461c-be1c-82f9a888dd52"
      },
      "source": [
        "lines[:30]"
      ],
      "execution_count": 34,
      "outputs": [
        {
          "output_type": "execute_result",
          "data": {
            "text/plain": [
              "[b'# ---------------------------------- WARNING ----------------------------------------\\n',\n",
              " b'# Some of the data that you have obtained from this U.S. Geological Survey database\\n',\n",
              " b\"# may not have received Director's approval. Any such data values are qualified\\n\",\n",
              " b'# as provisional and are subject to revision. Provisional data are released on the\\n',\n",
              " b'# condition that neither the USGS nor the United States Government may be held liable\\n',\n",
              " b'# for any damages resulting from its use.\\n',\n",
              " b'#\\n',\n",
              " b'# Additional info: https://help.waterdata.usgs.gov/policies/provisional-data-statement\\n',\n",
              " b'#\\n',\n",
              " b'# File-format description:  https://help.waterdata.usgs.gov/faq/about-tab-delimited-output\\n',\n",
              " b'# Automated-retrieval info: https://help.waterdata.usgs.gov/faq/automated-retrievals\\n',\n",
              " b'#\\n',\n",
              " b'# Contact:   gs-w_support_nwisweb@usgs.gov\\n',\n",
              " b'# retrieved: 2020-05-01 03:22:21 EDT       (caww01)\\n',\n",
              " b'#\\n',\n",
              " b'# Data for the following 2 site(s) are contained in this file\\n',\n",
              " b'#    USGS 06803486 Oak Creek at Air Park Road at Lincoln, Nebr.\\n',\n",
              " b'#    USGS 06803495 Salt Creek at Fairgrounds at Lincoln, Nebr.\\n',\n",
              " b'# -----------------------------------------------------------------------------------\\n',\n",
              " b'#\\n',\n",
              " b'# Data provided for site 06803486\\n',\n",
              " b'#            TS   parameter     statistic     Description\\n',\n",
              " b'#         93535       00060     00003     Discharge, cubic feet per second (Mean)\\n',\n",
              " b'#\\n',\n",
              " b'# Data-value qualification codes included in this output:\\n',\n",
              " b'#     A  Approved for publication -- Processing and review completed.\\n',\n",
              " b'#     e  Value has been estimated.\\n',\n",
              " b'# \\n',\n",
              " b'agency_cd\\tsite_no\\tdatetime\\t93535_00060_00003\\t93535_00060_00003_cd\\n',\n",
              " b'5s\\t15s\\t20d\\t14n\\t10s\\n']"
            ]
          },
          "metadata": {
            "tags": []
          },
          "execution_count": 34
        }
      ]
    },
    {
      "cell_type": "code",
      "metadata": {
        "id": "tjnBBPYSHpF0",
        "colab_type": "code",
        "colab": {
          "base_uri": "https://localhost:8080/",
          "height": 35
        },
        "outputId": "1d074f65-00b5-4f60-ec51-78073ba5dbe3"
      },
      "source": [
        "\n",
        "lines[39].decode().rstrip().split('\\t')"
      ],
      "execution_count": 35,
      "outputs": [
        {
          "output_type": "execute_result",
          "data": {
            "text/plain": [
              "['USGS', '06803486', '2000-10-19', '11.0', 'A']"
            ]
          },
          "metadata": {
            "tags": []
          },
          "execution_count": 35
        }
      ]
    },
    {
      "cell_type": "code",
      "metadata": {
        "id": "cpO88wvSH8TX",
        "colab_type": "code",
        "colab": {
          "base_uri": "https://localhost:8080/",
          "height": 363
        },
        "outputId": "94135f42-fd92-451e-86a9-8be18ee6be2f"
      },
      "source": [
        "\n",
        "def cal_annual_runoff(daily_csv, annual_runoff_csv):\n",
        "    site = ''\n",
        "    year = ''\n",
        "    begin = True\n",
        "    with open(daily_csv) as f:\n",
        "        # skip the header\n",
        "        f.readline()\n",
        "        idx_site = 1\n",
        "        idx_date = 2\n",
        "        idx_val  = 3\n",
        "        for i, l in enumerate(f):\n",
        "            items = l.split(',')\n",
        "            \n",
        "            # if site or month change, update the key \n",
        "            if items[idx_site] != site or items[idx_date][:4] != year:\n",
        "                site = items[idx_site]\n",
        "                year = items[idx_date][:4]\n",
        "                key = f'{site},{year}'\n",
        "                if begin:\n",
        "                    site_year = {key: []}\n",
        "                    begin = False\n",
        "                else:\n",
        "                    site_year[key] = []\n",
        "                    \n",
        "            # append the data to the list        \n",
        "            if items[idx_val].replace('.', '0').isnumeric():\n",
        "                site_year[key].append(float(items[idx_val]) * 86400 / 43560)\n",
        "    \n",
        "\n",
        "    # write the data\n",
        "    with open(annual_runoff_csv, 'w') as fw:\n",
        "        # write the header first\n",
        "        fw.write('site_no,year,runoff\\n')\n",
        "        for k in site_year:\n",
        "            fw.write(f'{k}-01-01,{sum(site_year[k]):.2f}\\n')\n",
        "            \n",
        "cal_annual_runoff('usgs_streamflow.csv', 'annual_runoff.csv')\n",
        "! head -20 'annual_runoff.csv'\n",
        "! tail -20 'annual_runoff.csv'"
      ],
      "execution_count": 36,
      "outputs": [
        {
          "output_type": "error",
          "ename": "FileNotFoundError",
          "evalue": "ignored",
          "traceback": [
            "\u001b[0;31m---------------------------------------------------------------------------\u001b[0m",
            "\u001b[0;31mFileNotFoundError\u001b[0m                         Traceback (most recent call last)",
            "\u001b[0;32m<ipython-input-36-4c2ee3974b32>\u001b[0m in \u001b[0;36m<module>\u001b[0;34m()\u001b[0m\n\u001b[1;32m     36\u001b[0m             \u001b[0mfw\u001b[0m\u001b[0;34m.\u001b[0m\u001b[0mwrite\u001b[0m\u001b[0;34m(\u001b[0m\u001b[0;34mf'{k}-01-01,{sum(site_year[k]):.2f}\\n'\u001b[0m\u001b[0;34m)\u001b[0m\u001b[0;34m\u001b[0m\u001b[0;34m\u001b[0m\u001b[0m\n\u001b[1;32m     37\u001b[0m \u001b[0;34m\u001b[0m\u001b[0m\n\u001b[0;32m---> 38\u001b[0;31m \u001b[0mcal_annual_runoff\u001b[0m\u001b[0;34m(\u001b[0m\u001b[0;34m'usgs_streamflow.csv'\u001b[0m\u001b[0;34m,\u001b[0m \u001b[0;34m'annual_runoff.csv'\u001b[0m\u001b[0;34m)\u001b[0m\u001b[0;34m\u001b[0m\u001b[0;34m\u001b[0m\u001b[0m\n\u001b[0m\u001b[1;32m     39\u001b[0m \u001b[0mget_ipython\u001b[0m\u001b[0;34m(\u001b[0m\u001b[0;34m)\u001b[0m\u001b[0;34m.\u001b[0m\u001b[0msystem\u001b[0m\u001b[0;34m(\u001b[0m\u001b[0;34m\" head -20 'annual_runoff.csv'\"\u001b[0m\u001b[0;34m)\u001b[0m\u001b[0;34m\u001b[0m\u001b[0;34m\u001b[0m\u001b[0m\n\u001b[1;32m     40\u001b[0m \u001b[0mget_ipython\u001b[0m\u001b[0;34m(\u001b[0m\u001b[0;34m)\u001b[0m\u001b[0;34m.\u001b[0m\u001b[0msystem\u001b[0m\u001b[0;34m(\u001b[0m\u001b[0;34m\" tail -20 'annual_runoff.csv'\"\u001b[0m\u001b[0;34m)\u001b[0m\u001b[0;34m\u001b[0m\u001b[0;34m\u001b[0m\u001b[0m\n",
            "\u001b[0;32m<ipython-input-36-4c2ee3974b32>\u001b[0m in \u001b[0;36mcal_annual_runoff\u001b[0;34m(daily_csv, annual_runoff_csv)\u001b[0m\n\u001b[1;32m      4\u001b[0m     \u001b[0myear\u001b[0m \u001b[0;34m=\u001b[0m \u001b[0;34m''\u001b[0m\u001b[0;34m\u001b[0m\u001b[0;34m\u001b[0m\u001b[0m\n\u001b[1;32m      5\u001b[0m     \u001b[0mbegin\u001b[0m \u001b[0;34m=\u001b[0m \u001b[0;32mTrue\u001b[0m\u001b[0;34m\u001b[0m\u001b[0;34m\u001b[0m\u001b[0m\n\u001b[0;32m----> 6\u001b[0;31m     \u001b[0;32mwith\u001b[0m \u001b[0mopen\u001b[0m\u001b[0;34m(\u001b[0m\u001b[0mdaily_csv\u001b[0m\u001b[0;34m)\u001b[0m \u001b[0;32mas\u001b[0m \u001b[0mf\u001b[0m\u001b[0;34m:\u001b[0m\u001b[0;34m\u001b[0m\u001b[0;34m\u001b[0m\u001b[0m\n\u001b[0m\u001b[1;32m      7\u001b[0m         \u001b[0;31m# skip the header\u001b[0m\u001b[0;34m\u001b[0m\u001b[0;34m\u001b[0m\u001b[0;34m\u001b[0m\u001b[0m\n\u001b[1;32m      8\u001b[0m         \u001b[0mf\u001b[0m\u001b[0;34m.\u001b[0m\u001b[0mreadline\u001b[0m\u001b[0;34m(\u001b[0m\u001b[0;34m)\u001b[0m\u001b[0;34m\u001b[0m\u001b[0;34m\u001b[0m\u001b[0m\n",
            "\u001b[0;31mFileNotFoundError\u001b[0m: [Errno 2] No such file or directory: 'usgs_streamflow.csv'"
          ]
        }
      ]
    },
    {
      "cell_type": "code",
      "metadata": {
        "id": "2hH_6OykIOxw",
        "colab_type": "code",
        "colab": {}
      },
      "source": [
        ""
      ],
      "execution_count": 0,
      "outputs": []
    }
  ]
}