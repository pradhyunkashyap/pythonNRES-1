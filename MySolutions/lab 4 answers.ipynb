{
 "cells": [
  {
   "cell_type": "code",
   "execution_count": 1,
   "metadata": {},
   "outputs": [
    {
     "name": "stdout",
     "output_type": "stream",
     "text": [
      "0\n",
      "1\n",
      "2\n",
      "4\n",
      "5\n"
     ]
    }
   ],
   "source": [
    "# 4.1 Write a Python program that prints all the numbers from 0 to 6 except 3 and 6.\n",
    "for i in range(7):\n",
    "    if i in [3, 6]: continue\n",
    "    print(i)"
   ]
  },
  {
   "cell_type": "code",
   "execution_count": 15,
   "metadata": {},
   "outputs": [
    {
     "data": {
      "text/plain": [
       "[True, False, False]"
      ]
     },
     "execution_count": 15,
     "metadata": {},
     "output_type": "execute_result"
    }
   ],
   "source": [
    "# 4.2 Write a Python program to check the validity of password input by users.\n",
    "#       At least 1 letter between [a-z] and 1 letter between [A-Z].\n",
    "#       At least 1 number between [0-9].\n",
    "#       At least 1 character from $ # @.\n",
    "#       Minimum length 6 characters.\n",
    "#       Maximum length 16 characters.\n",
    "\n",
    "def check_password(password):\n",
    "    \n",
    "    number_req = False\n",
    "    special_req = False\n",
    "    lower = False\n",
    "    upper = False\n",
    "    for c in set(password):\n",
    "        if c >= 'a' and c <= 'z': lower = True\n",
    "        if c >= 'A' and c <= 'Z': upper = True\n",
    "        if c >= '0' and c <= '9': number_req = True\n",
    "        if c in '$ # @'.split():    special_req = True\n",
    "            \n",
    "    return lower and upper and number_req and special_req and (len(password)>=6) and (len(password)<=16)\n",
    "    \n",
    "\n",
    "list(map(check_password, ['123Python#45', '123', '123Python']))"
   ]
  },
  {
   "cell_type": "code",
   "execution_count": 21,
   "metadata": {},
   "outputs": [
    {
     "name": "stdout",
     "output_type": "stream",
     "text": [
      "*\n",
      "*\n",
      "**\n",
      "**\n",
      "***\n",
      "***\n",
      "****\n",
      "****\n",
      "*****\n",
      "*****\n",
      "****-\n",
      "****-\n",
      "***--\n",
      "***--\n",
      "**---\n",
      "**---\n",
      "*----\n",
      "*----\n"
     ]
    }
   ],
   "source": [
    "# 4.3 Write a Python program to construct the following pattern, using a nested for loop.\n",
    "#   * \n",
    "#   * * \n",
    "#   * * * \n",
    "#   * * * * \n",
    "#   * * * * * \n",
    "#   * * * * -\n",
    "#   * * * - -\n",
    "#   * * - - -\n",
    "#   * - - - -\n",
    "\n",
    "for i in range(1, 10):\n",
    "    nstar = i if i <= 5 else 10 - i\n",
    "    ndash = i - 5 if i > 5 else 0\n",
    "\n",
    "    for j in range(nstar):\n",
    "        print('*', end='')\n",
    "    for j in range(ndash):\n",
    "        print('-', end='')\n",
    "    print('')\n",
    "    \n",
    "    # if you don't want to use nested loop\n",
    "    # print('*' * nstar + '-' * ndash)"
   ]
  },
  {
   "cell_type": "code",
   "execution_count": 49,
   "metadata": {},
   "outputs": [
    {
     "name": "stdout",
     "output_type": "stream",
     "text": [
      "The brand and model of the safest car are Chevy Silverado\n",
      "SUV's safest brand is Honda\n",
      "Sedan's safest brand is Honda\n",
      "Pickup's safest brand is Chevy\n",
      "{'Honda': 201, 'Chevy': 147, 'Ford': 212}\n",
      "{'SUV': 339, 'Sedan': 165, 'Pickup': 56}\n"
     ]
    }
   ],
   "source": [
    "# 4.4 Find the brand and model of the safest car\n",
    "#     Find the safest brand for each vehicle type\n",
    "#     Calculate the total accidents for each brand and vehicle type, respectively.\n",
    "\n",
    "Brand = ['Ford', 'Ford',   'Chevy',   'Chevy',   'Honda', 'Ford',   'Honda', 'Honda', 'Ford', 'Chevy']\n",
    "Model = ['F150', 'Escape', 'Charger', 'Charger', 'Civic', 'Escape', 'CRV',   'CRV',   'F150', 'Silverado']\n",
    "Type = ['Pickup', 'SUV', 'Sedan', 'Sedan', 'Sedan', 'SUV', 'SUV',   'SUV',   'Pickup', 'Pickup']\n",
    "Accidents = [25, 79, 46, 90, 29, 88, 79, 93, 20, 11]\n",
    "\n",
    "# Find the brand and model of the safest car\n",
    "index_safest = Accidents.index(min(Accidents))\n",
    "print('The brand and model of the safest car are', Brand[index_safest], Model[index_safest])\n",
    "\n",
    "# Find the safest brand for each vehicle type\n",
    "naccident_cartype = {t:{} for t in set(Type)}\n",
    "\n",
    "for b, t, n in zip(Brand, Type, Accidents):\n",
    "    if b in naccident_cartype[t]:\n",
    "        naccident_cartype[t][b] += n\n",
    "    else:\n",
    "        naccident_cartype[t][b] = n\n",
    "\n",
    "for t in naccident_cartype:\n",
    "    min_accident = 10000\n",
    "    for b in naccident_cartype[t]:\n",
    "        if naccident_cartype[t][b] < min_accident:\n",
    "            min_accident = naccident_cartype[t][b]\n",
    "            brand_safest = b\n",
    "    naccident_cartype[t] = b\n",
    "    \n",
    "for t in naccident_cartype:\n",
    "    print(t + \"'s safest brand is \" + naccident_cartype[t])\n",
    "    \n",
    "# Calculate the total accidents for each brand and vehicle type, respectively.\n",
    "naccident_brand = {b:0 for b in set(Brand)} \n",
    "naccident_type =  {t:0 for t in set(Type)} \n",
    "for b, t, n in zip(Brand, Type, Accidents):\n",
    "    naccident_brand[b] += n\n",
    "    naccident_type[t] += n\n",
    "print(naccident_brand)\n",
    "print(naccident_type)"
   ]
  },
  {
   "cell_type": "code",
   "execution_count": 52,
   "metadata": {},
   "outputs": [
    {
     "name": "stdout",
     "output_type": "stream",
     "text": [
      "{'cold': [0, 3, 6, 8, 9, 11, 12, 15, 17, 18, 21, 23, 24, 26, 27], 'slippery': [1, 2, 5, 16, 19, 20, 22, 29, 30, 33, 39, 41, 42, 60, 63, 81], 'comfortable': [4, 7, 10, 13, 14, 25, 28, 31, 32, 34, 35, 36, 37, 38, 40, 43, 44, 45, 46, 47, 48, 49, 50, 51, 52, 53, 54, 55, 56, 57, 58, 59, 61, 62, 64, 65, 66, 67, 68, 69, 70, 71, 72, 73, 74, 75, 76, 77, 78, 79, 80, 82, 83, 84, 85, 86, 87, 88, 89], 'warm': []}\n",
      "{'cold': -3.913333333333333, 'slippery': 0.625, 'comfortable': 5.018644067796609, 'warm': 'na'}\n"
     ]
    }
   ],
   "source": [
    "# 4.5 Classify daily temperatures (in degrees Celsius) stored in the temperatures list below into four different classes:\n",
    "#     Cold: Temperatures below -2 degrees\n",
    "#     Slippery: Temperatures equal to or warmer than -2 degrees and up to +2 degrees\n",
    "#     Comfortable: Temperatures equal to or warmer than +2 degrees and up to +15 degrees\n",
    "#     Warm: Temperatures warmer than +15 degrees\n",
    "\n",
    "temperatures = [-5.4, 1.0, -1.3, -4.8, 3.9, 0.1, -4.4, 4.0, -2.2, -3.9, 4.4,\n",
    "                -2.5, -4.6, 5.1, 2.1, -2.4, 1.9, -3.3, -4.8, 1.0, -0.8, -2.8,\n",
    "                -0.1, -4.7, -5.6, 2.6, -2.7, -4.6, 3.4, -0.4, -0.9, 3.1, 2.4,\n",
    "                1.6, 4.2, 3.5, 2.6, 3.1, 2.2, 1.8, 3.3, 1.6, 1.5, 4.7, 4.0,\n",
    "                3.6, 4.9, 4.8, 5.3, 5.6, 4.1, 3.7, 7.6, 6.9, 5.1, 6.4, 3.8,\n",
    "                4.0, 8.6, 4.1, 1.4, 8.9, 3.0, 1.6, 8.5, 4.7, 6.6, 8.1, 4.5,\n",
    "                4.8, 11.3, 4.7, 5.2, 11.5, 6.2, 2.9, 4.3, 2.8, 2.8, 6.3, 2.6,\n",
    "                -0.0, 7.3, 3.4, 4.7, 9.3, 6.4, 5.4, 7.6, 5.2]\n",
    "\n",
    "weathers = dict(cold=[], slippery=[], comfortable=[], warm=[])\n",
    "for i, t in enumerate(temperatures):\n",
    "    if t < -2:\n",
    "        weathers['cold'].append(i)\n",
    "    elif t < 2:\n",
    "        weathers['slippery'].append(i)\n",
    "    elif t < 15:\n",
    "        weathers['comfortable'].append(i)\n",
    "    else:\n",
    "        weathers['warm'].append(i)\n",
    "# Store the index of day for each of the classes. \n",
    "print(weathers)\n",
    "\n",
    "# Calculate the mean temperature in each class.\n",
    "t_mean = {}\n",
    "for c in weathers:\n",
    "    t_sum = []\n",
    "    for i in weathers[c]:\n",
    "        t_sum.append(temperatures[i])\n",
    "    t_mean[c] = 'na' if t_sum == [] else sum(t_sum)/len(t_sum)\n",
    "print(t_mean)"
   ]
  },
  {
   "cell_type": "code",
   "execution_count": 63,
   "metadata": {},
   "outputs": [
    {
     "name": "stdout",
     "output_type": "stream",
     "text": [
      "4\n",
      "1\n",
      "3\n",
      "6\n"
     ]
    }
   ],
   "source": [
    "# 4.6 Given a string, find the length of the longest substring without repeating characters.\n",
    "def longest_substr(string):\n",
    "    length = 0\n",
    "    isubstr = 0\n",
    "    for i, s in enumerate(string):\n",
    "        if s in string[isubstr:i]:\n",
    "            isubstr = isubstr + string[isubstr:].index(s) + 1\n",
    "        length = max(length, i - isubstr + 1)\n",
    "    return length\n",
    "\n",
    "print(longest_substr(\"pwwkewc\"))  \n",
    "print(longest_substr(\"bbbbb\"))  \n",
    "print(longest_substr(\"abcabcbb\"))  \n",
    "print(longest_substr(\"xdfgtrx\"))      "
   ]
  },
  {
   "cell_type": "code",
   "execution_count": 88,
   "metadata": {},
   "outputs": [
    {
     "name": "stdout",
     "output_type": "stream",
     "text": [
      "[[-1, 0, 1], [2, -1, -1]]\n",
      "[[-1, 0, 1], [-7, 5, 2], [-4, 3, 1], [2, -1, -1], [5, -4, -1]]\n"
     ]
    }
   ],
   "source": [
    "# 4.7 Given an array nums of n integers, are there elements \n",
    "#     a, b, c in nums such that a + b + c = 0? Find all unique \n",
    "#     triplets in the array which gives the sum of zero. \n",
    "#     The solution set must not contain duplicate triplets.\n",
    "\n",
    "\n",
    "def find_zerosum(num_list):\n",
    "    positives = list(filter(lambda x: x > 0, num_list))\n",
    "    negatives = list(filter(lambda x: x < 0, num_list))\n",
    "    \n",
    "    \n",
    "    zero_in = 0 in num_list\n",
    "    positives.sort(reverse=True)\n",
    "    negatives.sort()\n",
    "    \n",
    "    \n",
    "    triplets = []\n",
    "    # first find v, -v, 0 if there is 0 in the list\n",
    "    if zero_in:\n",
    "        for v in set(negatives):\n",
    "            if -v in set(positives):\n",
    "                triplets.append([v, 0, -v])\n",
    "                \n",
    "    # second find v1, v2, v3: v2 + v3 = -v1\n",
    "    for v1 in set(negatives):\n",
    "        for i, v2 in enumerate(positives):\n",
    "            if - v1 - v2 in positives[i+1:]:\n",
    "                if [v1, v2, - v1 - v2] not in triplets:\n",
    "                    triplets.append([v1, v2, - v1 - v2]) \n",
    "            \n",
    "    for v1 in set(positives):\n",
    "        for i, v2 in enumerate(negatives):\n",
    "            if - v1 - v2 in negatives[i+1:]:\n",
    "                if [v1, v2, - v1 - v2] not in triplets:\n",
    "                    triplets.append([v1, v2, - v1 - v2]) \n",
    "    \n",
    "    return triplets    \n",
    "\n",
    "print(find_zerosum([-1, 0, 1, 2, -1, -4]))\n",
    "print(find_zerosum([5, 5, 3, 2, 1, 0, -7, -4, -1, -1]))"
   ]
  }
 ],
 "metadata": {
  "kernelspec": {
   "display_name": "Python 3",
   "language": "python",
   "name": "python3"
  },
  "language_info": {
   "codemirror_mode": {
    "name": "ipython",
    "version": 3
   },
   "file_extension": ".py",
   "mimetype": "text/x-python",
   "name": "python",
   "nbconvert_exporter": "python",
   "pygments_lexer": "ipython3",
   "version": "3.7.6"
  }
 },
 "nbformat": 4,
 "nbformat_minor": 4
}